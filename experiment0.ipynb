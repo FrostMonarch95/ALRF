{
 "cells": [
  {
   "cell_type": "code",
   "execution_count": 1,
   "metadata": {},
   "outputs": [],
   "source": [
    "from IPython.core.interactiveshell import InteractiveShell\n",
    "InteractiveShell.ast_node_interactivity = \"all\"\n",
    "\n",
    "%load_ext autoreload\n",
    "%autoreload 2"
   ]
  },
  {
   "cell_type": "code",
   "execution_count": 2,
   "metadata": {},
   "outputs": [],
   "source": [
    "import torch\n",
    "import torch.nn as nn\n",
    "import torch.nn.functional as F\n",
    "import torch.optim as optim\n",
    "\n",
    "\n",
    "import utils\n",
    "from nets.NetOneLayer import NetOneLayer\n",
    "from nets.NetOneLayerLowRank import NetOneLayerLowRank"
   ]
  },
  {
   "cell_type": "code",
   "execution_count": 3,
   "metadata": {},
   "outputs": [
    {
     "name": "stdout",
     "output_type": "stream",
     "text": [
      "Downloading http://yann.lecun.com/exdb/mnist/train-images-idx3-ubyte.gz\n",
      "Downloading http://yann.lecun.com/exdb/mnist/train-labels-idx1-ubyte.gz\n",
      "Downloading http://yann.lecun.com/exdb/mnist/t10k-images-idx3-ubyte.gz\n",
      "Downloading http://yann.lecun.com/exdb/mnist/t10k-labels-idx1-ubyte.gz\n",
      "Processing...\n",
      "Done!\n"
     ]
    }
   ],
   "source": [
    "batch_size = 128\n",
    "batch_size_test = 1000\n",
    "\n",
    "train_loader, test_loader = utils.load_mnist(batch_size, batch_size_test)"
   ]
  },
  {
   "cell_type": "code",
   "execution_count": 4,
   "metadata": {},
   "outputs": [],
   "source": [
    "def train(model, train_loader, optimizer, epoch):\n",
    "    model.train()\n",
    "    for batch_idx, (data, target) in enumerate(train_loader):\n",
    "        optimizer.zero_grad()\n",
    "        output = model(data)\n",
    "        loss = F.cross_entropy(output, target)\n",
    "        loss.backward()\n",
    "        optimizer.step()\n",
    "        if batch_idx % 200 == 0:\n",
    "            print('Train Epoch: {} [{}/{} ({:.0f}%)]\\tLoss: {:.6f}'.format(\n",
    "                epoch, batch_idx * len(data), len(train_loader.dataset),\n",
    "                100. * batch_idx / len(train_loader), loss.item()))\n",
    "            \n",
    "def test(model, test_loader):\n",
    "    model.eval()\n",
    "    test_loss = 0\n",
    "    correct = 0\n",
    "    with torch.no_grad():\n",
    "        for data, target in test_loader:\n",
    "            output = model(data)\n",
    "            test_loss += F.nll_loss(output, target, reduction='sum').item() # sum up batch loss\n",
    "            pred = output.max(1, keepdim=True)[1] # get the index of the max log-probability\n",
    "            correct += pred.eq(target.view_as(pred)).sum().item()\n",
    "\n",
    "    test_loss /= len(test_loader.dataset)\n",
    "\n",
    "    print('\\nTest set: Average loss: {:.4f}, Accuracy: {}/{} ({:.0f}%)\\n'.format(\n",
    "        test_loss, correct, len(test_loader.dataset),\n",
    "        100. * correct / len(test_loader.dataset)))"
   ]
  },
  {
   "cell_type": "code",
   "execution_count": null,
   "metadata": {},
   "outputs": [
    {
     "name": "stdout",
     "output_type": "stream",
     "text": [
      "Train Epoch: 0 [0/60000 (0%)]\tLoss: 2.326495\n",
      "Train Epoch: 0 [25600/60000 (43%)]\tLoss: 2.240762\n",
      "Train Epoch: 0 [51200/60000 (85%)]\tLoss: 2.165662\n",
      "\n",
      "Test set: Average loss: -0.2814, Accuracy: 2825/10000 (28%)\n",
      "\n",
      "Train Epoch: 1 [0/60000 (0%)]\tLoss: 2.130206\n",
      "Train Epoch: 1 [25600/60000 (43%)]\tLoss: 2.079306\n",
      "Train Epoch: 1 [51200/60000 (85%)]\tLoss: 2.126233\n",
      "\n",
      "Test set: Average loss: -0.3347, Accuracy: 3379/10000 (34%)\n",
      "\n",
      "Train Epoch: 2 [0/60000 (0%)]\tLoss: 2.174729\n",
      "Train Epoch: 2 [25600/60000 (43%)]\tLoss: 2.105397\n",
      "Train Epoch: 2 [51200/60000 (85%)]\tLoss: 2.100385\n",
      "\n",
      "Test set: Average loss: -0.4383, Accuracy: 4453/10000 (45%)\n",
      "\n",
      "Train Epoch: 3 [0/60000 (0%)]\tLoss: 2.008390\n",
      "Train Epoch: 3 [25600/60000 (43%)]\tLoss: 2.009532\n",
      "Train Epoch: 3 [51200/60000 (85%)]\tLoss: 1.936907\n",
      "\n",
      "Test set: Average loss: -0.4901, Accuracy: 4947/10000 (49%)\n",
      "\n",
      "Train Epoch: 4 [0/60000 (0%)]\tLoss: 1.998642\n",
      "Train Epoch: 4 [25600/60000 (43%)]\tLoss: 1.881161\n",
      "Train Epoch: 4 [51200/60000 (85%)]\tLoss: 1.988464\n",
      "\n",
      "Test set: Average loss: -0.5224, Accuracy: 5295/10000 (53%)\n",
      "\n",
      "Train Epoch: 5 [0/60000 (0%)]\tLoss: 1.946007\n",
      "Train Epoch: 5 [25600/60000 (43%)]\tLoss: 1.896106\n",
      "Train Epoch: 5 [51200/60000 (85%)]\tLoss: 1.944925\n",
      "\n",
      "Test set: Average loss: -0.5427, Accuracy: 5490/10000 (55%)\n",
      "\n",
      "Train Epoch: 6 [0/60000 (0%)]\tLoss: 1.877466\n",
      "Train Epoch: 6 [25600/60000 (43%)]\tLoss: 1.847262\n",
      "Train Epoch: 6 [51200/60000 (85%)]\tLoss: 1.860567\n",
      "\n",
      "Test set: Average loss: -0.5596, Accuracy: 5672/10000 (57%)\n",
      "\n",
      "Train Epoch: 7 [0/60000 (0%)]\tLoss: 1.917990\n",
      "Train Epoch: 7 [25600/60000 (43%)]\tLoss: 1.885929\n",
      "Train Epoch: 7 [51200/60000 (85%)]\tLoss: 1.823954\n",
      "\n",
      "Test set: Average loss: -0.6054, Accuracy: 6179/10000 (62%)\n",
      "\n",
      "Train Epoch: 8 [0/60000 (0%)]\tLoss: 1.860791\n",
      "Train Epoch: 8 [25600/60000 (43%)]\tLoss: 1.800576\n",
      "Train Epoch: 8 [51200/60000 (85%)]\tLoss: 1.839928\n",
      "\n",
      "Test set: Average loss: -0.6282, Accuracy: 6381/10000 (64%)\n",
      "\n",
      "Train Epoch: 9 [0/60000 (0%)]\tLoss: 1.838943\n",
      "Train Epoch: 9 [25600/60000 (43%)]\tLoss: 1.849408\n",
      "Train Epoch: 9 [51200/60000 (85%)]\tLoss: 1.880616\n",
      "\n",
      "Test set: Average loss: -0.6397, Accuracy: 6489/10000 (65%)\n",
      "\n",
      "Train Epoch: 10 [0/60000 (0%)]\tLoss: 1.837191\n",
      "Train Epoch: 10 [25600/60000 (43%)]\tLoss: 1.807866\n",
      "Train Epoch: 10 [51200/60000 (85%)]\tLoss: 1.815512\n",
      "\n",
      "Test set: Average loss: -0.6485, Accuracy: 6586/10000 (66%)\n",
      "\n",
      "Train Epoch: 11 [0/60000 (0%)]\tLoss: 1.726004\n",
      "Train Epoch: 11 [25600/60000 (43%)]\tLoss: 1.722276\n"
     ]
    }
   ],
   "source": [
    "lr = 0.02\n",
    "momentum = 0.9\n",
    "n_epochs = 100\n",
    "\n",
    "model = NetOneLayerLowRank(n_hidden=2**8, d=2, K=2)\n",
    "# model = NetOneLayer(n_hidden=2**8)\n",
    "optimizer = optim.SGD(model.parameters(), lr=lr, momentum=momentum)\n",
    "\n",
    "for epoch in range(n_epochs):\n",
    "    train(model, train_loader, optimizer, epoch)\n",
    "    test(model, test_loader)"
   ]
  },
  {
   "cell_type": "code",
   "execution_count": null,
   "metadata": {},
   "outputs": [],
   "source": []
  }
 ],
 "metadata": {
  "kernelspec": {
   "display_name": "Python3 (main-env)",
   "language": "python",
   "name": "main-env"
  },
  "language_info": {
   "codemirror_mode": {
    "name": "ipython",
    "version": 3
   },
   "file_extension": ".py",
   "mimetype": "text/x-python",
   "name": "python",
   "nbconvert_exporter": "python",
   "pygments_lexer": "ipython3",
   "version": "3.6.6"
  }
 },
 "nbformat": 4,
 "nbformat_minor": 2
}
