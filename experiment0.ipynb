{
 "cells": [
  {
   "cell_type": "code",
   "execution_count": 1,
   "metadata": {},
   "outputs": [],
   "source": [
    "from IPython.core.interactiveshell import InteractiveShell\n",
    "InteractiveShell.ast_node_interactivity = \"all\"\n",
    "\n",
    "%load_ext autoreload\n",
    "%autoreload 2"
   ]
  },
  {
   "cell_type": "code",
   "execution_count": 11,
   "metadata": {},
   "outputs": [],
   "source": [
    "import torch\n",
    "import torch.nn as nn\n",
    "import torch.nn.functional as F\n",
    "import torch.optim as optim\n",
    "import torch.utils.data\n",
    "\n",
    "from torchvision import datasets, transforms\n",
    "\n",
    "from nets import NetOneLayer, NetOneLayerLowRank"
   ]
  },
  {
   "cell_type": "code",
   "execution_count": 3,
   "metadata": {},
   "outputs": [],
   "source": [
    "batch_size = 128\n",
    "batch_size_test = 1000"
   ]
  },
  {
   "cell_type": "code",
   "execution_count": 4,
   "metadata": {},
   "outputs": [],
   "source": [
    "train_loader = torch.utils.data.DataLoader(\n",
    "    datasets.MNIST('../data', train=True, download=True,\n",
    "                   transform=transforms.Compose([\n",
    "                       transforms.ToTensor(),\n",
    "                       transforms.Normalize((0.1307,), (0.3081,))\n",
    "                   ])),\n",
    "    batch_size=batch_size, shuffle=True)\n",
    "test_loader = torch.utils.data.DataLoader(\n",
    "    datasets.MNIST('../data', train=False, transform=transforms.Compose([\n",
    "        transforms.ToTensor(),\n",
    "        transforms.Normalize((0.1307,), (0.3081,))\n",
    "    ])),\n",
    "    batch_size=batch_size_test, shuffle=True)"
   ]
  },
  {
   "cell_type": "code",
   "execution_count": 5,
   "metadata": {},
   "outputs": [],
   "source": [
    "def train(model, train_loader, optimizer, epoch):\n",
    "    model.train()\n",
    "    for batch_idx, (data, target) in enumerate(train_loader):\n",
    "        optimizer.zero_grad()\n",
    "        output = model(data)\n",
    "        loss = F.cross_entropy(output, target)\n",
    "        loss.backward()\n",
    "        optimizer.step()\n",
    "        if batch_idx % 100 == 0:\n",
    "            print('Train Epoch: {} [{}/{} ({:.0f}%)]\\tLoss: {:.6f}'.format(\n",
    "                epoch, batch_idx * len(data), len(train_loader.dataset),\n",
    "                100. * batch_idx / len(train_loader), loss.item()))\n",
    "            \n",
    "def test(model, test_loader):\n",
    "    model.eval()\n",
    "    test_loss = 0\n",
    "    correct = 0\n",
    "    with torch.no_grad():\n",
    "        for data, target in test_loader:\n",
    "            output = model(data)\n",
    "            test_loss += F.nll_loss(output, target, reduction='sum').item() # sum up batch loss\n",
    "            pred = output.max(1, keepdim=True)[1] # get the index of the max log-probability\n",
    "            correct += pred.eq(target.view_as(pred)).sum().item()\n",
    "\n",
    "    test_loss /= len(test_loader.dataset)\n",
    "\n",
    "    print('\\nTest set: Average loss: {:.4f}, Accuracy: {}/{} ({:.0f}%)\\n'.format(\n",
    "        test_loss, correct, len(test_loader.dataset),\n",
    "        100. * correct / len(test_loader.dataset)))"
   ]
  },
  {
   "cell_type": "code",
   "execution_count": null,
   "metadata": {},
   "outputs": [
    {
     "name": "stdout",
     "output_type": "stream",
     "text": [
      "Train Epoch: 0 [0/60000 (0%)]\tLoss: 2.338593\n",
      "Train Epoch: 0 [12800/60000 (21%)]\tLoss: 2.331945\n",
      "Train Epoch: 0 [25600/60000 (43%)]\tLoss: 2.313817\n",
      "Train Epoch: 0 [38400/60000 (64%)]\tLoss: 2.243971\n",
      "Train Epoch: 0 [51200/60000 (85%)]\tLoss: 2.216885\n",
      "\n",
      "Test set: Average loss: -0.2158, Accuracy: 2173/10000 (22%)\n",
      "\n",
      "Train Epoch: 1 [0/60000 (0%)]\tLoss: 2.193237\n",
      "Train Epoch: 1 [12800/60000 (21%)]\tLoss: 2.206975\n",
      "Train Epoch: 1 [25600/60000 (43%)]\tLoss: 2.245503\n",
      "Train Epoch: 1 [38400/60000 (64%)]\tLoss: 2.244076\n",
      "Train Epoch: 1 [51200/60000 (85%)]\tLoss: 2.213951\n",
      "\n",
      "Test set: Average loss: -0.2686, Accuracy: 2702/10000 (27%)\n",
      "\n",
      "Train Epoch: 2 [0/60000 (0%)]\tLoss: 2.180673\n",
      "Train Epoch: 2 [12800/60000 (21%)]\tLoss: 2.222097\n",
      "Train Epoch: 2 [25600/60000 (43%)]\tLoss: 2.085020\n",
      "Train Epoch: 2 [38400/60000 (64%)]\tLoss: 2.140434\n",
      "Train Epoch: 2 [51200/60000 (85%)]\tLoss: 2.144905\n",
      "\n",
      "Test set: Average loss: -0.2924, Accuracy: 2938/10000 (29%)\n",
      "\n",
      "Train Epoch: 3 [0/60000 (0%)]\tLoss: 2.140555\n",
      "Train Epoch: 3 [12800/60000 (21%)]\tLoss: 2.191905\n",
      "Train Epoch: 3 [25600/60000 (43%)]\tLoss: 2.122185\n",
      "Train Epoch: 3 [38400/60000 (64%)]\tLoss: 2.237110\n",
      "Train Epoch: 3 [51200/60000 (85%)]\tLoss: 2.149936\n",
      "\n",
      "Test set: Average loss: -0.3041, Accuracy: 3052/10000 (31%)\n",
      "\n",
      "Train Epoch: 4 [0/60000 (0%)]\tLoss: 2.108694\n",
      "Train Epoch: 4 [12800/60000 (21%)]\tLoss: 2.116228\n",
      "Train Epoch: 4 [25600/60000 (43%)]\tLoss: 2.145942\n",
      "Train Epoch: 4 [38400/60000 (64%)]\tLoss: 2.163473\n",
      "Train Epoch: 4 [51200/60000 (85%)]\tLoss: 2.136574\n",
      "\n",
      "Test set: Average loss: -0.3138, Accuracy: 3152/10000 (32%)\n",
      "\n",
      "Train Epoch: 5 [0/60000 (0%)]\tLoss: 2.020365\n",
      "Train Epoch: 5 [12800/60000 (21%)]\tLoss: 2.149781\n",
      "Train Epoch: 5 [25600/60000 (43%)]\tLoss: 2.155577\n",
      "Train Epoch: 5 [38400/60000 (64%)]\tLoss: 2.162571\n",
      "Train Epoch: 5 [51200/60000 (85%)]\tLoss: 2.121594\n"
     ]
    }
   ],
   "source": [
    "lr = 0.01\n",
    "momentum = 0.9\n",
    "n_epochs = 50\n",
    "\n",
    "# model = NetOneLayerLowRank(n_hidden=2**8, d=2, K=2)\n",
    "model = NetOneLayer(n_hidden=2**8)\n",
    "optimizer = optim.SGD(model.parameters(), lr=lr, momentum=momentum)\n",
    "\n",
    "for epoch in range(n_epochs):\n",
    "    train(model, train_loader, optimizer, epoch)\n",
    "    test(model, test_loader)"
   ]
  },
  {
   "cell_type": "code",
   "execution_count": null,
   "metadata": {},
   "outputs": [],
   "source": []
  }
 ],
 "metadata": {
  "kernelspec": {
   "display_name": "Python3 (main-env)",
   "language": "python",
   "name": "main-env"
  },
  "language_info": {
   "codemirror_mode": {
    "name": "ipython",
    "version": 3
   },
   "file_extension": ".py",
   "mimetype": "text/x-python",
   "name": "python",
   "nbconvert_exporter": "python",
   "pygments_lexer": "ipython3",
   "version": "3.6.6"
  }
 },
 "nbformat": 4,
 "nbformat_minor": 2
}
