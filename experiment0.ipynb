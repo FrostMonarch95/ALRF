{
 "cells": [
  {
   "cell_type": "code",
   "execution_count": null,
   "metadata": {},
   "outputs": [],
   "source": [
    "from IPython.core.interactiveshell import InteractiveShell\n",
    "InteractiveShell.ast_node_interactivity = \"all\""
   ]
  },
  {
   "cell_type": "code",
   "execution_count": null,
   "metadata": {},
   "outputs": [],
   "source": [
    "import torch\n",
    "import torch.nn as nn\n",
    "import torch.nn.functional as F\n",
    "import torch.optim as optim\n",
    "\n",
    "import numpy as np"
   ]
  },
  {
   "cell_type": "code",
   "execution_count": null,
   "metadata": {},
   "outputs": [],
   "source": [
    "class Net_one_layer(nn.Module):\n",
    "    def __init__(self, n_hidden=2**8, d=8, K=2):\n",
    "        # n_hidden - number of hidden units\n",
    "        # d - rank of decompositions\n",
    "        # k - number of pairs (U(k), V(k))\n",
    "        super(Net_one_layer, self).__init__()\n",
    "        \n",
    "        self.Vs1 = [nn.Parameter(torch.randn(728, d, requires_grad=True)) for k in range(K)]\n",
    "        self.Us1 = [nn.Parameter(torch.randn(d, n_hidden, requires_grad=True)) for k in range(K)]\n",
    "        for k in range(K):\n",
    "            self.register_parameter('U{}'.format(k), self.Us[k])\n",
    "            self.register_parameter('V{}'.format(k), self.Vs[k])\n",
    "        \n",
    "        self.W_pi = nn.Parameter(torch.randn(49, K), requires_grad=True)\n",
    "        \n",
    "        self.W2 = nn.Parameter(torch.randn(n_hidden, 10, requires_grad=True))\n",
    "        \n",
    "        \n",
    "    def forward(self, x):\n",
    "        # x has shape (28,28)\n",
    "        x_pooled = F.max_pool2d(x, 4) # (28, 28) -> (7,7)\n",
    "        x_pooled = x.view(-1, 7*7)\n",
    "        pi = F.sigmoid(x_pooled.mm(self.W_pi))\n",
    "        pi = pi.view((*pi.size(), 1)) # (n_samples, K, 1)\n",
    "        \n",
    "        x = x.view(-1)\n",
    "        \n",
    "        # the next three line are magic\n",
    "        Wx = [(x.mm(Vs[k]).mm(Us[k])) for k in range(K)]   \n",
    "        Wx = torch.stack(Wx, dim=1)                        # (n_samples, K, n_hidden)\n",
    "        Wx = (pi * Wx).sum(dim=1) # (n_samples, n_hidden)\n",
    "\n",
    "        x = F.relu(Wx)\n",
    "        y_pred = F.softmax(x.mm(self.W2), dim=1)\n",
    "        return y_pred"
   ]
  },
  {
   "cell_type": "code",
   "execution_count": null,
   "metadata": {},
   "outputs": [],
   "source": []
  }
 ],
 "metadata": {
  "kernelspec": {
   "display_name": "Python3 (main-env)",
   "language": "python",
   "name": "main-env"
  },
  "language_info": {
   "codemirror_mode": {
    "name": "ipython",
    "version": 3
   },
   "file_extension": ".py",
   "mimetype": "text/x-python",
   "name": "python",
   "nbconvert_exporter": "python",
   "pygments_lexer": "ipython3",
   "version": "3.6.6"
  }
 },
 "nbformat": 4,
 "nbformat_minor": 2
}
