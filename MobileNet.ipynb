{
 "cells": [
  {
   "cell_type": "code",
   "execution_count": 1,
   "metadata": {},
   "outputs": [],
   "source": [
    "import torch\n",
    "import torch.nn as nn\n",
    "import torch.optim as optim\n",
    "import torch.utils.data as data\n",
    "from torch.autograd import Variable\n",
    "import torch.nn.functional as F\n",
    "\n",
    "from torchvision import datasets, transforms\n",
    "from utils import build_dataset, flops_to_string, params_to_string\n",
    "from tqdm import tqdm_notebook\n",
    "\n",
    "import time\n",
    "from tensorboardX import SummaryWriter\n",
    "writer = SummaryWriter(f'runs/MobileNet_{int(time.time())}')\n",
    "\n",
    "from thop import profile\n",
    "from nets.MobileNet_CIFAR import MobileNet_CIFAR"
   ]
  },
  {
   "cell_type": "code",
   "execution_count": 2,
   "metadata": {},
   "outputs": [
    {
     "name": "stdout",
     "output_type": "stream",
     "text": [
      "Flops: 14.07 MMac\n",
      "Params: 121.61k\n"
     ]
    }
   ],
   "source": [
    "flops, params = profile(MobileNet_CIFAR().cpu(), input_size=(1, 3, 32,32))\n",
    "print ('Flops: {}'.format(flops_to_string(flops)))\n",
    "print ('Params: {}'.format(params_to_string(params)))"
   ]
  },
  {
   "cell_type": "code",
   "execution_count": 3,
   "metadata": {},
   "outputs": [],
   "source": [
    "class Solver(object):\n",
    "    def __init__(self, model, dataset='MNIST', n_epochs=100, lr=0.001):\n",
    "        self.n_epochs = n_epochs\n",
    "        \n",
    "        self.train_loader, self.test_loader = build_dataset(dataset, './data', batch_size = 300)\n",
    "        \n",
    "        self.image_dim = {'MNIST': 28*28, 'CIFAR10': 3*32*32}[dataset]\n",
    "                \n",
    "        self.net = model().cuda()\n",
    "        \n",
    "        self.loss_fn = nn.CrossEntropyLoss()\n",
    "        self.optimizer = optim.Adam(self.net.parameters(), lr=lr)\n",
    "                \n",
    "    def train(self):\n",
    "        self.net.train()\n",
    "        best_loss = 999\n",
    "        for epoch_i in tqdm_notebook(range(self.n_epochs)):\n",
    "            epoch_loss = 0\n",
    "            for batch_idx, (images, labels) in enumerate(self.train_loader):\n",
    "                images = Variable(images).cuda()\n",
    "                labels = Variable(labels).cuda()\n",
    "                \n",
    "                logits = self.net(images)\n",
    "                \n",
    "                loss = self.loss_fn(logits, labels)\n",
    "                \n",
    "                total_loss = loss\n",
    "\n",
    "                self.optimizer.zero_grad()\n",
    "                total_loss.backward()\n",
    "\n",
    "                self.optimizer.step()\n",
    "                \n",
    "                epoch_loss += float(loss.data)    \n",
    "            epoch_loss /= len(self.train_loader.dataset)\n",
    "            # save best model\n",
    "            if best_loss > epoch_loss:\n",
    "                best_loss = epoch_loss\n",
    "                torch.save(self.net.state_dict(), 'models/MobileNet_CIFAR.pth')\n",
    "                \n",
    "            print(f'Epoch {epoch_i} | loss: {epoch_loss:.8f}')\n",
    "            \n",
    "            niter = epoch_i*len(self.train_loader)+batch_idx\n",
    "            writer.add_scalar('Train/Loss', loss.data[0], niter)\n",
    "            self.evaluate(epoch_i)\n",
    "            \n",
    "        \n",
    "        self.net.load_state_dict(torch.load(PATH))\n",
    "        print (f'Best Loss {best_loss} | Best')\n",
    "        self.evaluate(epoch_i+1)\n",
    "    \n",
    "    def evaluate(self, epoch_i = None):\n",
    "        total = 0\n",
    "        correct = 0\n",
    "        self.net.eval()\n",
    "        for batch_idx, (images, labels) in enumerate(self.test_loader):\n",
    "            images = Variable(images).cuda()\n",
    "\n",
    "            logits = self.net(images.cuda())\n",
    "            \n",
    "            _, predicted = torch.max(logits.data, 1)\n",
    "            \n",
    "            total += labels.size(0)\n",
    "            correct += (predicted.cpu() == labels).sum()\n",
    "        if epoch_i is not None:\n",
    "            writer.add_scalar('Test/Acc@1', (100 * correct / total), epoch_i)\n",
    "        print(f'Accuracy: {100 * correct / total:.3f}%')"
   ]
  },
  {
   "cell_type": "code",
   "execution_count": null,
   "metadata": {},
   "outputs": [
    {
     "name": "stdout",
     "output_type": "stream",
     "text": [
      "Files already downloaded and verified\n",
      "Files already downloaded and verified\n"
     ]
    },
    {
     "data": {
      "application/vnd.jupyter.widget-view+json": {
       "model_id": "f540429c28bd497eb7eb92aa21c500f8",
       "version_major": 2,
       "version_minor": 0
      },
      "text/plain": [
       "HBox(children=(IntProgress(value=0), HTML(value='')))"
      ]
     },
     "metadata": {},
     "output_type": "display_data"
    },
    {
     "name": "stdout",
     "output_type": "stream",
     "text": [
      "Epoch 0 | loss: 0.00613735\n"
     ]
    },
    {
     "name": "stderr",
     "output_type": "stream",
     "text": [
      "/home/denis/anaconda3/lib/python3.6/site-packages/ipykernel_launcher.py:44: UserWarning: invalid index of a 0-dim tensor. This will be an error in PyTorch 0.5. Use tensor.item() to convert a 0-dim tensor to a Python number\n"
     ]
    },
    {
     "name": "stdout",
     "output_type": "stream",
     "text": [
      "Accuracy: 40.000%\n",
      "Epoch 1 | loss: 0.00564003\n",
      "Accuracy: 43.000%\n",
      "Epoch 2 | loss: 0.00471466\n",
      "Accuracy: 51.000%\n",
      "Epoch 3 | loss: 0.00428784\n",
      "Accuracy: 53.000%\n",
      "Epoch 4 | loss: 0.00396135\n",
      "Accuracy: 55.000%\n",
      "Epoch 5 | loss: 0.00372937\n",
      "Accuracy: 59.000%\n",
      "Epoch 6 | loss: 0.00356571\n",
      "Accuracy: 60.000%\n",
      "Epoch 7 | loss: 0.00334226\n",
      "Accuracy: 61.000%\n",
      "Epoch 8 | loss: 0.00322550\n",
      "Accuracy: 65.000%\n"
     ]
    }
   ],
   "source": [
    "standard_solver = Solver(MobileNet_CIFAR, 'CIFAR10')\n",
    "\n",
    "standard_solver.train()"
   ]
  },
  {
   "cell_type": "code",
   "execution_count": null,
   "metadata": {},
   "outputs": [],
   "source": []
  }
 ],
 "metadata": {
  "kernelspec": {
   "display_name": "Python 3",
   "language": "python",
   "name": "python3"
  },
  "language_info": {
   "codemirror_mode": {
    "name": "ipython",
    "version": 3
   },
   "file_extension": ".py",
   "mimetype": "text/x-python",
   "name": "python",
   "nbconvert_exporter": "python",
   "pygments_lexer": "ipython3",
   "version": "3.6.4"
  }
 },
 "nbformat": 4,
 "nbformat_minor": 2
}
