{
 "cells": [
  {
   "cell_type": "code",
   "execution_count": 1,
   "metadata": {},
   "outputs": [],
   "source": [
    "import torch\n",
    "import torch.nn as nn\n",
    "import torch.optim as optim\n",
    "import torch.utils.data as data\n",
    "from torch.autograd import Variable\n",
    "import torch.nn.functional as F\n",
    "\n",
    "from torchvision import datasets, transforms\n",
    "from utils import build_dataset\n",
    "from tqdm import tqdm_notebook"
   ]
  },
  {
   "cell_type": "code",
   "execution_count": 2,
   "metadata": {},
   "outputs": [],
   "source": [
    "class MobileNet_CIFAR(nn.Module):\n",
    "    def __init__(self):\n",
    "        super(MobileNet_CIFAR, self).__init__()\n",
    "\n",
    "        def conv_dw(inp, oup, stride):\n",
    "            return nn.Sequential(\n",
    "                nn.Conv2d(inp, inp, kernel_size=3, stride=stride, padding=1, groups=inp, bias=False),\n",
    "                nn.BatchNorm2d(inp),\n",
    "                nn.ReLU(inplace=True),\n",
    "    \n",
    "                nn.Conv2d(inp, oup, kernel_size=1, stride=1, padding=1, bias=False),\n",
    "                nn.BatchNorm2d(oup),\n",
    "                nn.ReLU(inplace=True),\n",
    "            )\n",
    "\n",
    "        self.model = nn.Sequential(\n",
    "            nn.Conv2d(3, 32, kernel_size=3, stride=1, padding=1, bias=False),\n",
    "            conv_dw( 32,  32, 1),\n",
    "            conv_dw( 32,  32, 1),\n",
    "            conv_dw( 32,  64, 1),\n",
    "            \n",
    "            conv_dw(64, 64, 2),\n",
    "            conv_dw(64, 64, 2),\n",
    "            conv_dw(64, 64, 2),\n",
    "            conv_dw(64, 128, 2),\n",
    "\n",
    "            conv_dw(128, 128, 2),\n",
    "            conv_dw(128, 128, 2),\n",
    "            conv_dw(128, 128, 2),\n",
    "            conv_dw(128, 256, 2),\n",
    "            nn.AvgPool2d(8, ceil_mode=True, count_include_pad=True),\n",
    "        )\n",
    "        self.fc = nn.Linear(256, 10)\n",
    "\n",
    "    def forward(self, x):\n",
    "        x = self.model(x)\n",
    "        x = x.view(-1, 256)\n",
    "        x = self.fc(x)\n",
    "        return x"
   ]
  },
  {
   "cell_type": "code",
   "execution_count": 3,
   "metadata": {},
   "outputs": [],
   "source": [
    "class Solver(object):\n",
    "    def __init__(self, dataset='MNIST', n_epochs=100, lr=0.001):\n",
    "        self.n_epochs = n_epochs\n",
    "        \n",
    "        self.train_loader, self.test_loader = build_dataset(dataset, './data', batch_size = 256)\n",
    "        \n",
    "        self.image_dim = {'MNIST': 28*28, 'CIFAR10': 3*32*32}[dataset]\n",
    "                \n",
    "        self.net = MobileNet_CIFAR().cuda()\n",
    "        self.loss_fn = nn.CrossEntropyLoss()\n",
    "        self.optimizer = optim.Adam(self.net.parameters(), lr=lr)\n",
    "                \n",
    "    def train(self):\n",
    "        self.net.train()\n",
    "        \n",
    "        for epoch_i in tqdm_notebook(range(self.n_epochs)):\n",
    "            epoch_i += 1\n",
    "            epoch_loss = 0\n",
    "            epoch_kl = 0\n",
    "            for images, labels in self.train_loader:\n",
    "                images = Variable(images).cuda()\n",
    "                labels = Variable(labels).cuda()\n",
    "                \n",
    "                logits = self.net(images)\n",
    "                \n",
    "                loss = self.loss_fn(logits, labels)\n",
    "                \n",
    "                total_loss = loss\n",
    "\n",
    "                self.optimizer.zero_grad()\n",
    "                total_loss.backward()\n",
    "\n",
    "                self.optimizer.step()\n",
    "                \n",
    "                epoch_loss += float(loss.data)\n",
    "            \n",
    "            epoch_loss /= len(self.train_loader.dataset)\n",
    "            print(f'Epoch {epoch_i} | loss: {epoch_loss:.4f}')\n",
    "            self.evaluate()\n",
    "            \n",
    "    def evaluate(self):\n",
    "        total = 0\n",
    "        correct = 0\n",
    "        self.net.eval()\n",
    "        for images, labels in self.test_loader:\n",
    "            images = Variable(images).cuda()\n",
    "\n",
    "            logits = self.net(images.cuda())\n",
    "            \n",
    "            _, predicted = torch.max(logits.data, 1)\n",
    "            \n",
    "            total += labels.size(0)\n",
    "            correct += (predicted.cpu() == labels).sum()\n",
    "                \n",
    "        print(f'Accuracy: {100 * correct / total:.2f}%')"
   ]
  },
  {
   "cell_type": "code",
   "execution_count": null,
   "metadata": {},
   "outputs": [
    {
     "name": "stdout",
     "output_type": "stream",
     "text": [
      "Files already downloaded and verified\n",
      "Files already downloaded and verified\n"
     ]
    },
    {
     "data": {
      "application/vnd.jupyter.widget-view+json": {
       "model_id": "c51ce706d1a843e5ba3d8564d219739c",
       "version_major": 2,
       "version_minor": 0
      },
      "text/plain": [
       "HBox(children=(IntProgress(value=0), HTML(value='')))"
      ]
     },
     "metadata": {},
     "output_type": "display_data"
    },
    {
     "name": "stdout",
     "output_type": "stream",
     "text": [
      "Epoch 1 | loss: 0.0070\n",
      "Accuracy: 41.00%\n",
      "Epoch 2 | loss: 0.0060\n",
      "Accuracy: 49.00%\n",
      "Epoch 3 | loss: 0.0052\n",
      "Accuracy: 53.00%\n",
      "Epoch 4 | loss: 0.0047\n",
      "Accuracy: 55.00%\n",
      "Epoch 5 | loss: 0.0044\n",
      "Accuracy: 56.00%\n",
      "Epoch 6 | loss: 0.0042\n",
      "Accuracy: 60.00%\n",
      "Epoch 7 | loss: 0.0040\n",
      "Accuracy: 62.00%\n",
      "Epoch 8 | loss: 0.0039\n",
      "Accuracy: 63.00%\n",
      "Epoch 9 | loss: 0.0037\n",
      "Accuracy: 63.00%\n",
      "Epoch 10 | loss: 0.0036\n",
      "Accuracy: 64.00%\n",
      "Epoch 11 | loss: 0.0035\n",
      "Accuracy: 64.00%\n",
      "Epoch 12 | loss: 0.0033\n",
      "Accuracy: 64.00%\n",
      "Epoch 13 | loss: 0.0033\n",
      "Accuracy: 67.00%\n",
      "Epoch 14 | loss: 0.0032\n",
      "Accuracy: 66.00%\n",
      "Epoch 15 | loss: 0.0031\n",
      "Accuracy: 67.00%\n",
      "Epoch 16 | loss: 0.0031\n",
      "Accuracy: 68.00%\n",
      "Epoch 17 | loss: 0.0030\n",
      "Accuracy: 68.00%\n",
      "Epoch 18 | loss: 0.0029\n",
      "Accuracy: 68.00%\n",
      "Epoch 19 | loss: 0.0029\n",
      "Accuracy: 69.00%\n",
      "Epoch 20 | loss: 0.0028\n",
      "Accuracy: 68.00%\n",
      "Epoch 21 | loss: 0.0027\n",
      "Accuracy: 69.00%\n",
      "Epoch 22 | loss: 0.0027\n",
      "Accuracy: 68.00%\n",
      "Epoch 23 | loss: 0.0026\n",
      "Accuracy: 69.00%\n",
      "Epoch 24 | loss: 0.0025\n",
      "Accuracy: 70.00%\n",
      "Epoch 25 | loss: 0.0025\n",
      "Accuracy: 70.00%\n"
     ]
    }
   ],
   "source": [
    "standard_solver = Solver('CIFAR10')\n",
    "\n",
    "standard_solver.train()"
   ]
  },
  {
   "cell_type": "code",
   "execution_count": null,
   "metadata": {},
   "outputs": [],
   "source": [
    "nn.AvgPool2d?"
   ]
  },
  {
   "cell_type": "markdown",
   "metadata": {},
   "source": [
    "##### "
   ]
  }
 ],
 "metadata": {
  "kernelspec": {
   "display_name": "Python 3",
   "language": "python",
   "name": "python3"
  },
  "language_info": {
   "codemirror_mode": {
    "name": "ipython",
    "version": 3
   },
   "file_extension": ".py",
   "mimetype": "text/x-python",
   "name": "python",
   "nbconvert_exporter": "python",
   "pygments_lexer": "ipython3",
   "version": "3.6.4"
  }
 },
 "nbformat": 4,
 "nbformat_minor": 2
}
